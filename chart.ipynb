{
 "cells": [
  {
   "cell_type": "code",
   "execution_count": 1,
   "metadata": {
    "collapsed": false
   },
   "outputs": [
    {
     "data": {
      "image/png": "[encoded data removed]",
      "text/plain": [
       "<matplotlib.figure.Figure at 0x10438cd68>"
      ]
     },
     "metadata": {},
     "output_type": "display_data"
    }
   ],
   "source": [
    "%matplotlib inline\n",
    "import time\n",
    "import pylab as pl\n",
    "from IPython import display\n",
    "for i in range(10):\n",
    "    pl.clf()\n",
    "    pl.plot(pl.randn(100))\n",
    "    display.display(pl.gcf())\n",
    "    display.clear_output(wait=True)\n",
    "    time.sleep(1.0)"
   ]
  },
  {
   "cell_type": "code",
   "execution_count": 3,
   "metadata": {
    "collapsed": false
   },
   "outputs": [],
   "source": [
    "import clawler"
   ]
  },
  {
   "cell_type": "code",
   "execution_count": 12,
   "metadata": {
    "collapsed": false
   },
   "outputs": [],
   "source": [
    "import urllib3\n",
    "import certifi\n",
    "http = urllib3.PoolManager(cert_reqs='CERT_REQUIRED', ca_certs=certifi.where())\n"
   ]
  },
  {
   "cell_type": "code",
   "execution_count": 17,
   "metadata": {
    "collapsed": true
   },
   "outputs": [
    {
     "name": "stdout",
     "output_type": "stream",
     "text": [
      "{'timestamp': '2016/06/26 20:43:13', 'ask': '68693', 'bid': '66464'}\n",
      "{'timestamp': '2016/06/26 20:43:16', 'ask': '68693', 'bid': '66464'}\n",
      "{'timestamp': '2016/06/26 20:43:18', 'ask': '68693', 'bid': '66464'}\n",
      "{'timestamp': '2016/06/26 20:43:20', 'ask': '68693', 'bid': '66415'}\n",
      "{'timestamp': '2016/06/26 20:43:22', 'ask': '68693', 'bid': '66469'}\n",
      "{'timestamp': '2016/06/26 20:43:24', 'ask': '68693', 'bid': '66469'}\n",
      "{'timestamp': '2016/06/26 20:43:27', 'ask': '68693', 'bid': '66469'}\n",
      "{'timestamp': '2016/06/26 20:43:29', 'ask': '68693', 'bid': '66469'}\n",
      "{'timestamp': '2016/06/26 20:43:31', 'ask': '68693', 'bid': '66469'}\n",
      "{'timestamp': '2016/06/26 20:43:33', 'ask': '68693', 'bid': '66469'}\n",
      "{'timestamp': '2016/06/26 20:43:35', 'ask': '68693', 'bid': '66469'}\n",
      "{'timestamp': '2016/06/26 20:43:38', 'ask': '68693', 'bid': '66469'}\n",
      "{'timestamp': '2016/06/26 20:43:40', 'ask': '68693', 'bid': '66469'}\n",
      "{'timestamp': '2016/06/26 20:43:42', 'ask': '68693', 'bid': '66473'}\n",
      "{'timestamp': '2016/06/26 20:43:44', 'ask': '68693', 'bid': '66519'}\n",
      "{'timestamp': '2016/06/26 20:43:46', 'ask': '68693', 'bid': '66519'}\n"
     ]
    },
    {
     "ename": "KeyboardInterrupt",
     "evalue": "",
     "output_type": "error",
     "traceback": [
      "\u001b[0;31m---------------------------------------------------------------------------\u001b[0m",
      "\u001b[0;31mKeyboardInterrupt\u001b[0m                         Traceback (most recent call last)",
      "\u001b[0;32m<ipython-input-17-3f1018523ca6>\u001b[0m in \u001b[0;36m<module>\u001b[0;34m()\u001b[0m\n\u001b[1;32m      1\u001b[0m \u001b[0;32mimport\u001b[0m \u001b[0mtime\u001b[0m\u001b[0;34m\u001b[0m\u001b[0m\n\u001b[1;32m      2\u001b[0m \u001b[0;32mwhile\u001b[0m \u001b[0;32mTrue\u001b[0m\u001b[0;34m:\u001b[0m\u001b[0;34m\u001b[0m\u001b[0m\n\u001b[0;32m----> 3\u001b[0;31m     \u001b[0mtime\u001b[0m\u001b[0;34m.\u001b[0m\u001b[0msleep\u001b[0m\u001b[0;34m(\u001b[0m\u001b[0;36m2\u001b[0m\u001b[0;34m)\u001b[0m\u001b[0;34m\u001b[0m\u001b[0m\n\u001b[0m\u001b[1;32m      4\u001b[0m     \u001b[0mprint\u001b[0m\u001b[0;34m(\u001b[0m\u001b[0mclawler\u001b[0m\u001b[0;34m.\u001b[0m\u001b[0mget_bitcoin_price\u001b[0m\u001b[0;34m(\u001b[0m\u001b[0mhttp\u001b[0m\u001b[0;34m)\u001b[0m\u001b[0;34m)\u001b[0m\u001b[0;34m\u001b[0m\u001b[0m\n",
      "\u001b[0;31mKeyboardInterrupt\u001b[0m: "
     ]
    }
   ],
   "source": [
    "import time\n",
    "while True:\n",
    "    print(clawler.get_bitcoin_price(http))\n",
    "    time.sleep(2)"
   ]
  },
  {
   "cell_type": "code",
   "execution_count": null,
   "metadata": {
    "collapsed": true
   },
   "outputs": [],
   "source": []
  }
 ],
 "metadata": {
  "kernelspec": {
   "display_name": "Python 3",
   "language": "python",
   "name": "python3"
  },
  "language_info": {
   "codemirror_mode": {
    "name": "ipython",
    "version": 3
   },
   "file_extension": ".py",
   "mimetype": "text/x-python",
   "name": "python",
   "nbconvert_exporter": "python",
   "pygments_lexer": "ipython3",
   "version": "3.5.1"
  }
 },
 "nbformat": 4,
 "nbformat_minor": 0
}
